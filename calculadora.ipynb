{
  "nbformat": 4,
  "nbformat_minor": 0,
  "metadata": {
    "colab": {
      "provenance": [],
      "authorship_tag": "ABX9TyNK4vmDmsKe0WVyY7WIGvGT",
      "include_colab_link": true
    },
    "kernelspec": {
      "name": "python3",
      "display_name": "Python 3"
    },
    "language_info": {
      "name": "python"
    }
  },
  "cells": [
    {
      "cell_type": "markdown",
      "metadata": {
        "id": "view-in-github",
        "colab_type": "text"
      },
      "source": [
        "<a href=\"https://colab.research.google.com/github/AlessandroFMoura/AlessandroAluno/blob/main/calculadora.ipynb\" target=\"_parent\"><img src=\"https://colab.research.google.com/assets/colab-badge.svg\" alt=\"Open In Colab\"/></a>"
      ]
    },
    {
      "cell_type": "markdown",
      "source": [
        "# Calculadora em Python"
      ],
      "metadata": {
        "id": "LuWoq3iPemZe"
      }
    },
    {
      "cell_type": "code",
      "execution_count": 8,
      "metadata": {
        "colab": {
          "base_uri": "https://localhost:8080/"
        },
        "id": "RNqpGuLDegLM",
        "outputId": "8f532e30-350f-4abe-b114-a2626c1b5d6a"
      },
      "outputs": [
        {
          "name": "stdout",
          "output_type": "stream",
          "text": [
            "\n",
            "******************* Calculadora em Python *******************\n",
            "\n",
            "Selecione o número da operação desejada: \n",
            "\n",
            "1 - Soma\n",
            "2 - Subtração\n",
            "3 - Multiplicação\n",
            "4 - Divisão\n",
            "\n",
            "Digite sua opção (1/2/3/4): 3\n"
          ]
        }
      ],
      "source": [
        "\n",
        "print(\"\\n******************* Calculadora em Python *******************\")\n",
        "\n",
        "opc = int(input('''\n",
        "Selecione o número da operação desejada:\n",
        "\n",
        "1 - Soma\n",
        "2 - Subtração\n",
        "3 - Multiplicação\n",
        "4 - Divisão\n",
        "\n",
        "Digite sua opção (1/2/3/4): '''))\n",
        "\n",
        "def soma(x,y):\n",
        "    print(f'{x} + {y} = {x + y}')\n",
        "\n",
        "def sub(x,y):\n",
        "    print(f'{x} - {y} = {x - y}')\n",
        "\n",
        "def mult(x,y):\n",
        "    print(f'{x} x {y} = {x * y}')\n",
        "\n",
        "def div(x,y):\n",
        "    print(f'{x} ÷ {y} = {x / y}')\n",
        "\n",
        "def invalida(x):\n",
        "    return f'Opção {x} é inválida'"
      ]
    },
    {
      "cell_type": "markdown",
      "source": [
        "# Trabalhando a entrada de dados"
      ],
      "metadata": {
        "id": "zJ_lI_1Le1xM"
      }
    },
    {
      "cell_type": "code",
      "source": [
        "def pergunta(valor):\n",
        "    lista = []\n",
        "    for i in range(1,2+1):\n",
        "        usuario = int(input(f'Digite o {i}º valor: '))\n",
        "        lista.append(usuario)\n",
        "    return valor(lista[0], lista[1])"
      ],
      "metadata": {
        "id": "gCEcz-9KerzZ"
      },
      "execution_count": 9,
      "outputs": []
    },
    {
      "cell_type": "markdown",
      "source": [
        "# Interação com o Usuário."
      ],
      "metadata": {
        "id": "Yiix2nZKe6Ut"
      }
    },
    {
      "cell_type": "code",
      "source": [
        "\n",
        "if opc == 1:\n",
        "    pergunta(soma)\n",
        "elif opc == 2:\n",
        "    pergunta(sub)\n",
        "\n",
        "elif opc == 3:\n",
        "    pergunta(mult)\n",
        "\n",
        "elif opc == 4:\n",
        "    pergunta(div)\n",
        "else:\n",
        "    print(invalida(opc))"
      ],
      "metadata": {
        "colab": {
          "base_uri": "https://localhost:8080/"
        },
        "id": "FsjI6gVgew7E",
        "outputId": "811fc83e-0cf3-40c0-fa8a-9f1818ac3203"
      },
      "execution_count": 10,
      "outputs": [
        {
          "output_type": "stream",
          "name": "stdout",
          "text": [
            "Digite o 1º valor: 2\n",
            "Digite o 2º valor: 3\n",
            "2 x 3 = 6\n"
          ]
        }
      ]
    }
  ]
}